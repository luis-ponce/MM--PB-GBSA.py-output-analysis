{
 "cells": [
  {
   "cell_type": "markdown",
   "metadata": {},
   "source": [
    "# model GB2"
   ]
  },
  {
   "cell_type": "code",
   "execution_count": 1,
   "metadata": {},
   "outputs": [
    {
     "name": "stdout",
     "output_type": "stream",
     "text": [
      "Populating the interactive namespace from numpy and matplotlib\n"
     ]
    }
   ],
   "source": [
    "import warnings\n",
    "warnings.filterwarnings(\"ignore\")\n",
    "import pandas as pd\n",
    "import numpy as np\n",
    "%pylab inline"
   ]
  },
  {
   "cell_type": "code",
   "execution_count": 2,
   "metadata": {},
   "outputs": [],
   "source": [
    "##### function that reads the value of the total contribution in a determined line\n",
    "def read_value(line):\n",
    "    return float(line.split('|')[-1].split('+/-')[0])\n",
    "\n",
    "def protonation(line):\n",
    "    line_t = line\n",
    "    line_t = line_t.replace('HID', 'HIS')\n",
    "    line_t = line_t.replace('HIE', 'HIS')\n",
    "    line_t = line_t.replace('HIP', 'HIS')\n",
    "    line_t = line_t.replace('ASH', 'ASP')\n",
    "    line_t = line_t.replace('GLH', 'GLU')\n",
    "    line_t = line_t.replace('CYX', 'CYS')\n",
    "    return line_t\n",
    "\n",
    "\n",
    "#### function to find the contribution of a determined residue \n",
    "def value_finder(residue, file):\n",
    "    # this will return the first line where the residue show up\n",
    "    for line in file:\n",
    "        if residue in protonation(line):\n",
    "            return read_value(line)\n",
    "    "
   ]
  },
  {
   "cell_type": "code",
   "execution_count": 3,
   "metadata": {},
   "outputs": [
    {
     "data": {
      "text/plain": [
       "'H42'"
      ]
     },
     "execution_count": 3,
     "metadata": {},
     "output_type": "execute_result"
    }
   ],
   "source": [
    "### fixing the residue numbers\n",
    "def res_shift(residue, shift):\n",
    "    o_res = str(int(residue.split(' ')[-1]))\n",
    "    s_res = str(int(residue.split(' ')[-1]) + shift)\n",
    "    res = residue.replace(o_res,s_res)\n",
    "    return res\n",
    "\n",
    "### changing from three letters to one letter code\n",
    "def tlc2olc(resname):\n",
    "    dic = {'ALA': 'A', 'CYS': 'C', 'ASP': 'D', 'GLU': 'E', 'PHE': 'F',\n",
    "           'GLY': 'G', 'HIS': 'H', 'ILE': 'I', 'LYS': 'K', 'LEU': 'L',\n",
    "           'MET': 'M', 'ASN': 'N', 'PRO': 'P', 'GLN': 'Q', 'ARG': 'R',\n",
    "           'SER': 'S', 'THR': 'T', 'VAL': 'V', 'TRP': 'W', 'TYR': 'Y'\n",
    "          }\n",
    "    restype = resname.split(' ')[0]\n",
    "    resnumber = resname.split(' ')[-1]\n",
    "    return dic[restype] + resnumber\n",
    "tlc2olc('HIS 42')   "
   ]
  },
  {
   "cell_type": "code",
   "execution_count": 4,
   "metadata": {},
   "outputs": [],
   "source": [
    "file1 = open('../IL2-HAR_IAR_COMPLEXES/IL2-HAR/productive/analysis/MMGBSA_amber_19/beta-gamma_gb2/per_residue/FINAL_DECOMP_MMPBSA.dat','r')\n",
    "file2 = open('../IL2-HAR_IAR_COMPLEXES/IL2-HAR/productive_r1/analysis/MMGBSA_amber_19/beta-gamma_gb2/per_residue/FINAL_DECOMP_MMPBSA.dat','r')\n",
    "file3 = open('../IL2-HAR_IAR_COMPLEXES/IL2-IAR/productive/analysis/MMGBSA_amber_19/beta-gamma_gb2/per_residue/FINAL_DECOMP_MMPBSA.dat','r')\n",
    "file4 = open('../IL2-HAR_IAR_COMPLEXES/IL2-IAR/productive_r1/analysis/MMGBSA_amber_19/beta-gamma_gb2/per_residue/FINAL_DECOMP_MMPBSA.dat','r')\n",
    "\n",
    "il2HAR_BG_r0_gb2 = file1.readlines()\n",
    "il2HAR_BG_r1_gb2 = file2.readlines()\n",
    "il2IAR_BG_r0_gb2 = file3.readlines()\n",
    "il2IAR_BG_r1_gb2 = file4.readlines()"
   ]
  },
  {
   "cell_type": "code",
   "execution_count": 5,
   "metadata": {},
   "outputs": [],
   "source": [
    "file5 = open('../IL2-HAR_IAR_COMPLEXES/IL2-HAR/productive/analysis/MMGBSA_amber_19/il2-beta_gb2/per_residue/FINAL_DECOMP_MMPBSA.dat','r')\n",
    "file6 = open('../IL2-HAR_IAR_COMPLEXES/IL2-HAR/productive_r1/analysis/MMGBSA_amber_19/il2-beta_gb2/per_residue/FINAL_DECOMP_MMPBSA.dat','r')\n",
    "file7 = open('../IL2-HAR_IAR_COMPLEXES/IL2-IAR/productive/analysis/MMGBSA_amber_19/il2-beta_gb2/per_residue/FINAL_DECOMP_MMPBSA.dat','r')\n",
    "file8 = open('../IL2-HAR_IAR_COMPLEXES/IL2-IAR/productive_r1/analysis/MMGBSA_amber_19/il2-beta_gb2/per_residue/FINAL_DECOMP_MMPBSA.dat','r')\n",
    "\n",
    "il2HAR_IL2B_r0_gb2 = file5.readlines()\n",
    "il2HAR_IL2B_r1_gb2 = file6.readlines()\n",
    "il2IAR_IL2B_r0_gb2 = file7.readlines()\n",
    "il2IAR_IL2B_r1_gb2 = file8.readlines()"
   ]
  },
  {
   "cell_type": "code",
   "execution_count": 6,
   "metadata": {},
   "outputs": [],
   "source": [
    "file9 = open('../IL2-HAR_IAR_COMPLEXES/IL2-HAR/productive/analysis/MMGBSA_amber_19/il2-gamma_gb2/per_residue/FINAL_DECOMP_MMPBSA.dat','r')\n",
    "file10 = open('../IL2-HAR_IAR_COMPLEXES/IL2-HAR/productive_r1/analysis/MMGBSA_amber_19/il2-gamma_gb2/per_residue/FINAL_DECOMP_MMPBSA.dat','r')\n",
    "file11 = open('../IL2-HAR_IAR_COMPLEXES/IL2-IAR/productive/analysis/MMGBSA_amber_19/il2-gamma_gb2/per_residue/FINAL_DECOMP_MMPBSA.dat','r')\n",
    "file12 = open('../IL2-HAR_IAR_COMPLEXES/IL2-IAR/productive_r1/analysis/MMGBSA_amber_19/il2-gamma_gb2/per_residue/FINAL_DECOMP_MMPBSA.dat','r')\n",
    "\n",
    "il2HAR_IL2G_r0_gb2 = file9.readlines()\n",
    "il2HAR_IL2G_r1_gb2 = file10.readlines()\n",
    "il2IAR_IL2G_r0_gb2 = file11.readlines()\n",
    "il2IAR_IL2G_r1_gb2 = file12.readlines()"
   ]
  },
  {
   "cell_type": "code",
   "execution_count": 7,
   "metadata": {},
   "outputs": [],
   "source": [
    "file13 = open('../IL15-HAR_IAR_COMPLEXES/IL15-HAR/productive/analysis/MMGBSA_amber_19/beta-gamma_gb2/per_residue/FINAL_DECOMP_MMPBSA.dat','r')\n",
    "file14 = open('../IL15-HAR_IAR_COMPLEXES/IL15-HAR/productive_r1/analysis/MMGBSA_amber_19/beta-gamma_gb2/per_residue/FINAL_DECOMP_MMPBSA.dat','r')\n",
    "file15 = open('../IL15-HAR_IAR_COMPLEXES/IL15-IAR/productive/analysis/MMGBSA_amber_19/beta-gamma_gb2/per_residue/FINAL_DECOMP_MMPBSA.dat','r')\n",
    "file16 = open('../IL15-HAR_IAR_COMPLEXES/IL15-IAR/productive_r1/analysis/MMGBSA_amber_19/beta-gamma_gb2/per_residue/FINAL_DECOMP_MMPBSA.dat','r')\n",
    "\n",
    "il15HAR_BG_r0_gb2 = file13.readlines()\n",
    "il15HAR_BG_r1_gb2 = file14.readlines()\n",
    "il15IAR_BG_r0_gb2 = file15.readlines()\n",
    "il15IAR_BG_r1_gb2 = file16.readlines()"
   ]
  },
  {
   "cell_type": "code",
   "execution_count": 8,
   "metadata": {},
   "outputs": [],
   "source": [
    "file17 = open('../IL15-HAR_IAR_COMPLEXES/IL15-HAR/productive/analysis/MMGBSA_amber_19/il15-beta_gb2/per_residue/FINAL_DECOMP_MMPBSA.dat','r')\n",
    "file18 = open('../IL15-HAR_IAR_COMPLEXES/IL15-HAR/productive_r1/analysis/MMGBSA_amber_19/il15-beta_gb2/per_residue/FINAL_DECOMP_MMPBSA.dat','r')\n",
    "file19 = open('../IL15-HAR_IAR_COMPLEXES/IL15-IAR/productive/analysis/MMGBSA_amber_19/il15-beta_gb2/per_residue/FINAL_DECOMP_MMPBSA.dat','r')\n",
    "file20 = open('../IL15-HAR_IAR_COMPLEXES/IL15-IAR/productive_r1/analysis/MMGBSA_amber_19/il15-beta_gb2/per_residue/FINAL_DECOMP_MMPBSA.dat','r')\n",
    "\n",
    "il15HAR_IL15B_r0_gb2 = file17.readlines()\n",
    "il15HAR_IL15B_r1_gb2 = file18.readlines()\n",
    "il15IAR_IL15B_r0_gb2 = file19.readlines()\n",
    "il15IAR_IL15B_r1_gb2 = file20.readlines()"
   ]
  },
  {
   "cell_type": "code",
   "execution_count": 9,
   "metadata": {},
   "outputs": [],
   "source": [
    "file21 = open('../IL15-HAR_IAR_COMPLEXES/IL15-HAR/productive/analysis/MMGBSA_amber_19/il15-gamma_gb2/per_residue/FINAL_DECOMP_MMPBSA.dat','r')\n",
    "file22 = open('../IL15-HAR_IAR_COMPLEXES/IL15-HAR/productive_r1/analysis/MMGBSA_amber_19/il15-gamma_gb2/per_residue/FINAL_DECOMP_MMPBSA.dat','r')\n",
    "file23 = open('../IL15-HAR_IAR_COMPLEXES/IL15-IAR/productive/analysis/MMGBSA_amber_19/il15-gamma_gb2/per_residue/FINAL_DECOMP_MMPBSA.dat','r')\n",
    "file24 = open('../IL15-HAR_IAR_COMPLEXES/IL15-IAR/productive_r1/analysis/MMGBSA_amber_19/il15-gamma_gb2/per_residue/FINAL_DECOMP_MMPBSA.dat','r')\n",
    "\n",
    "il15HAR_IL15G_r0_gb2 = file21.readlines()\n",
    "il15HAR_IL15G_r1_gb2 = file22.readlines()\n",
    "il15IAR_IL15G_r0_gb2 = file23.readlines()\n",
    "il15IAR_IL15G_r1_gb2 = file24.readlines()"
   ]
  },
  {
   "cell_type": "code",
   "execution_count": 10,
   "metadata": {},
   "outputs": [],
   "source": [
    "B2G = ['ARG 132', 'HIS 133', 'LEU 134', 'GLU 135', 'LEU 153', 'THR 154', 'LEU 155', \n",
    "                 'LYS 156', 'GLN 157', 'GLN 159', 'TRP 161', 'LEU 164', 'GLU 165', \n",
    "                 'THR 166', 'LEU 182']\n",
    "G2B = ['LEU 112', 'GLN 116', 'GLU 131', 'GLN 147', 'VAL 149', 'ASP 150', 'TYR 151',\n",
    "                 'ARG 152', 'PHE 155', 'SER 156', 'PRO 158', 'SER 159', 'LYS 154', \n",
    "                 'TYR 166', 'PRO 176']\n",
    "\n",
    "\n",
    "IL22B = ['LEU  10', 'GLN  11', 'GLU  13', 'HIS  14', 'LEU  17', 'ASP  18', 'MET  21',\n",
    "                 'ARG  79', 'ASP  82', 'LEU  83', 'ASN  86', 'VAL  89', 'ILE  90', \n",
    "                 'LEU  92', 'GLU  93']\n",
    "B2IL2 = ['ARG  10', 'ARG  36', 'ASP  63', 'SER  64', 'GLN  65', 'THR  68', 'THR  69', \n",
    "                 'VAL  70', 'LYS  94', 'HIS 128', 'TYR 129', 'HIS 133']\n",
    "\n",
    "\n",
    "IL22G = ['LEU  16', 'LYS  47', 'GLU 108', 'THR 121', 'GLN 124', 'SER 125', 'ILE 127', \n",
    "                 'SER 128', 'THR 131']\n",
    "G2IL2 = ['LYS  39', 'ASN  40', 'TYR  72', 'LYS  94', 'TYR 151', 'PRO 176', 'LEU 177']\n",
    "\n",
    "\n",
    "IL152B = ['ASP  10', 'ASP  58', 'ASP  63', 'GLU  66', 'ASN  67', 'ILE  70', 'LEU  71']\n",
    "B2IL15 = ['ARG  36', 'ARG  37', 'ARG  38', 'SER  64', 'THR  68', 'THR  69', 'VAL  70', \n",
    "                'ASP  71', 'HIS 128', 'TYR 129']\n",
    "\n",
    "\n",
    "IL152G = ['VAL   5', 'ILE   8', 'GLU  30', 'SER  31', 'ASP  32', 'VAL  33', 'HIS  34', \n",
    "                'PRO  35', 'HIS 107', 'GLN 110', 'MET 111', 'ILE 113']\n",
    "G2IL15 = ['LYS  39', 'ASN  40', 'SER  41', 'GLN  73', 'THR  74', 'LYS  94', 'GLN  96', \n",
    "          'PRO 176', 'LEU 177', 'CYS 178', 'SER 180']\n",
    "\n",
    "# B2G"
   ]
  },
  {
   "cell_type": "code",
   "execution_count": 11,
   "metadata": {},
   "outputs": [],
   "source": [
    "B2G_il2har_r0_gb2 = []\n",
    "B2G_il2har_r1_gb2 = []\n",
    "B2G_il2iar_r0_gb2 = []\n",
    "B2G_il2iar_r1_gb2 = []\n",
    "\n",
    "G2B_il2har_r0_gb2 = []\n",
    "G2B_il2har_r1_gb2 = []\n",
    "G2B_il2iar_r0_gb2 = []\n",
    "G2B_il2iar_r1_gb2 = []\n",
    "\n",
    "\n",
    "for res in B2G:\n",
    "    B2G_il2har_r0_gb2.append(value_finder(res, il2HAR_BG_r0_gb2))\n",
    "    B2G_il2har_r1_gb2.append(value_finder(res, il2HAR_BG_r1_gb2))\n",
    "    B2G_il2iar_r0_gb2.append(value_finder(res, il2IAR_BG_r0_gb2))\n",
    "    B2G_il2iar_r1_gb2.append(value_finder(res, il2IAR_BG_r1_gb2))\n",
    "    \n",
    "for res in G2B:\n",
    "    G2B_il2har_r0_gb2.append(value_finder(res, il2HAR_BG_r0_gb2))\n",
    "    G2B_il2har_r1_gb2.append(value_finder(res, il2HAR_BG_r1_gb2))\n",
    "    G2B_il2iar_r0_gb2.append(value_finder(res, il2IAR_BG_r0_gb2))\n",
    "    G2B_il2iar_r1_gb2.append(value_finder(res, il2IAR_BG_r1_gb2))\n",
    "    \n",
    "    \n",
    "B2G_H_gb2 = list(np.transpose([B2G_il2har_r0_gb2, B2G_il2har_r1_gb2]))\n",
    "B2G_I_gb2 = list(np.transpose([B2G_il2iar_r0_gb2, B2G_il2iar_r1_gb2]))\n",
    "\n",
    "G2B_H_gb2 = list(np.transpose([G2B_il2har_r0_gb2, G2B_il2har_r1_gb2]))\n",
    "G2B_I_gb2 = list(np.transpose([G2B_il2iar_r0_gb2, G2B_il2iar_r1_gb2]))"
   ]
  },
  {
   "cell_type": "code",
   "execution_count": 12,
   "metadata": {},
   "outputs": [],
   "source": [
    "IL22B_il2har_r0_gb2 = []\n",
    "IL22B_il2har_r1_gb2 = []\n",
    "IL22B_il2iar_r0_gb2 = []\n",
    "IL22B_il2iar_r1_gb2 = []\n",
    "\n",
    "B2IL2_il2har_r0_gb2 = []\n",
    "B2IL2_il2har_r1_gb2 = []\n",
    "B2IL2_il2iar_r0_gb2 = []\n",
    "B2IL2_il2iar_r1_gb2 = []\n",
    "\n",
    "\n",
    "for res in IL22B:\n",
    "    IL22B_il2har_r0_gb2.append(value_finder(res, il2HAR_IL2B_r0_gb2))\n",
    "    IL22B_il2har_r1_gb2.append(value_finder(res, il2HAR_IL2B_r1_gb2))\n",
    "    IL22B_il2iar_r0_gb2.append(value_finder(res, il2IAR_IL2B_r0_gb2))\n",
    "    IL22B_il2iar_r1_gb2.append(value_finder(res, il2IAR_IL2B_r1_gb2))\n",
    "    \n",
    "for res in B2IL2:\n",
    "    B2IL2_il2har_r0_gb2.append(value_finder(res, il2HAR_IL2B_r0_gb2))\n",
    "    B2IL2_il2har_r1_gb2.append(value_finder(res, il2HAR_IL2B_r1_gb2))\n",
    "    B2IL2_il2iar_r0_gb2.append(value_finder(res, il2IAR_IL2B_r0_gb2))\n",
    "    B2IL2_il2iar_r1_gb2.append(value_finder(res, il2IAR_IL2B_r1_gb2))\n",
    "    \n",
    "    \n",
    "IL22B_H_gb2 = list(np.transpose([IL22B_il2har_r0_gb2, IL22B_il2har_r1_gb2]))\n",
    "IL22B_I_gb2 = list(np.transpose([IL22B_il2iar_r0_gb2, IL22B_il2iar_r1_gb2]))\n",
    "\n",
    "B2IL2_H_gb2 = list(np.transpose([B2IL2_il2har_r0_gb2, B2IL2_il2har_r1_gb2]))\n",
    "B2IL2_I_gb2 = list(np.transpose([B2IL2_il2iar_r0_gb2, B2IL2_il2iar_r1_gb2]))"
   ]
  },
  {
   "cell_type": "code",
   "execution_count": 13,
   "metadata": {},
   "outputs": [],
   "source": [
    "IL22G_il2har_r0_gb2 = []\n",
    "IL22G_il2har_r1_gb2 = []\n",
    "IL22G_il2iar_r0_gb2 = []\n",
    "IL22G_il2iar_r1_gb2 = []\n",
    "\n",
    "G2IL2_il2har_r0_gb2 = []\n",
    "G2IL2_il2har_r1_gb2 = []\n",
    "G2IL2_il2iar_r0_gb2 = []\n",
    "G2IL2_il2iar_r1_gb2 = []\n",
    "\n",
    "\n",
    "for res in IL22G:\n",
    "    IL22G_il2har_r0_gb2.append(value_finder(res, il2HAR_IL2G_r0_gb2))\n",
    "    IL22G_il2har_r1_gb2.append(value_finder(res, il2HAR_IL2G_r1_gb2))\n",
    "    IL22G_il2iar_r0_gb2.append(value_finder(res, il2IAR_IL2G_r0_gb2))\n",
    "    IL22G_il2iar_r1_gb2.append(value_finder(res, il2IAR_IL2G_r1_gb2))\n",
    "    \n",
    "for res in G2IL2:\n",
    "    G2IL2_il2har_r0_gb2.append(value_finder(res, il2HAR_IL2G_r0_gb2))\n",
    "    G2IL2_il2har_r1_gb2.append(value_finder(res, il2HAR_IL2G_r1_gb2))\n",
    "    G2IL2_il2iar_r0_gb2.append(value_finder(res, il2IAR_IL2G_r0_gb2))\n",
    "    G2IL2_il2iar_r1_gb2.append(value_finder(res, il2IAR_IL2G_r1_gb2))\n",
    "    \n",
    "    \n",
    "IL22G_H_gb2 = list(np.transpose([IL22G_il2har_r0_gb2, IL22G_il2har_r1_gb2]))\n",
    "IL22G_I_gb2 = list(np.transpose([IL22G_il2iar_r0_gb2, IL22G_il2iar_r1_gb2]))\n",
    "\n",
    "G2IL2_H_gb2 = list(np.transpose([G2IL2_il2har_r0_gb2, G2IL2_il2har_r1_gb2]))\n",
    "G2IL2_I_gb2 = list(np.transpose([G2IL2_il2iar_r0_gb2, G2IL2_il2iar_r1_gb2]))"
   ]
  },
  {
   "cell_type": "code",
   "execution_count": 14,
   "metadata": {},
   "outputs": [],
   "source": [
    "B2G_il15har_r0_gb2 = []\n",
    "B2G_il15har_r1_gb2 = []\n",
    "B2G_il15iar_r0_gb2 = []\n",
    "B2G_il15iar_r1_gb2 = []\n",
    "\n",
    "G2B_il15har_r0_gb2 = []\n",
    "G2B_il15har_r1_gb2 = []\n",
    "G2B_il15iar_r0_gb2 = []\n",
    "G2B_il15iar_r1_gb2 = []\n",
    "\n",
    "\n",
    "for res in B2G:\n",
    "    B2G_il15har_r0_gb2.append(value_finder(res, il15HAR_BG_r0_gb2))\n",
    "    B2G_il15har_r1_gb2.append(value_finder(res, il15HAR_BG_r1_gb2))\n",
    "    B2G_il15iar_r0_gb2.append(value_finder(res, il15IAR_BG_r0_gb2))\n",
    "    B2G_il15iar_r1_gb2.append(value_finder(res, il15IAR_BG_r1_gb2))\n",
    "    \n",
    "for res in G2B:\n",
    "    G2B_il15har_r0_gb2.append(value_finder(res, il15HAR_BG_r0_gb2))\n",
    "    G2B_il15har_r1_gb2.append(value_finder(res, il15HAR_BG_r1_gb2))\n",
    "    G2B_il15iar_r0_gb2.append(value_finder(res, il15IAR_BG_r0_gb2))\n",
    "    G2B_il15iar_r1_gb2.append(value_finder(res, il15IAR_BG_r1_gb2))\n",
    "    \n",
    "    \n",
    "B2G_H15_gb2 = list(np.transpose([B2G_il15har_r0_gb2, B2G_il15har_r1_gb2]))\n",
    "B2G_I15_gb2 = list(np.transpose([B2G_il15iar_r0_gb2, B2G_il15iar_r1_gb2]))\n",
    "\n",
    "G2B_H15_gb2 = list(np.transpose([G2B_il15har_r0_gb2, G2B_il15har_r1_gb2]))\n",
    "G2B_I15_gb2 = list(np.transpose([G2B_il15iar_r0_gb2, G2B_il15iar_r1_gb2]))"
   ]
  },
  {
   "cell_type": "code",
   "execution_count": 15,
   "metadata": {},
   "outputs": [],
   "source": [
    "IL152B_il15har_r0_gb2 = []\n",
    "IL152B_il15har_r1_gb2 = []\n",
    "IL152B_il15iar_r0_gb2 = []\n",
    "IL152B_il15iar_r1_gb2 = []\n",
    "\n",
    "B2IL15_il15har_r0_gb2 = []\n",
    "B2IL15_il15har_r1_gb2 = []\n",
    "B2IL15_il15iar_r0_gb2 = []\n",
    "B2IL15_il15iar_r1_gb2 = []\n",
    "\n",
    "\n",
    "for res in IL152B:\n",
    "    IL152B_il15har_r0_gb2.append(value_finder(res, il15HAR_IL15B_r0_gb2))\n",
    "    IL152B_il15har_r1_gb2.append(value_finder(res, il15HAR_IL15B_r1_gb2))\n",
    "    IL152B_il15iar_r0_gb2.append(value_finder(res, il15IAR_IL15B_r0_gb2))\n",
    "    IL152B_il15iar_r1_gb2.append(value_finder(res, il15IAR_IL15B_r1_gb2))\n",
    "    \n",
    "for res in B2IL15:\n",
    "    B2IL15_il15har_r0_gb2.append(value_finder(res, il15HAR_IL15B_r0_gb2))\n",
    "    B2IL15_il15har_r1_gb2.append(value_finder(res, il15HAR_IL15B_r1_gb2))\n",
    "    B2IL15_il15iar_r0_gb2.append(value_finder(res, il15IAR_IL15B_r0_gb2))\n",
    "    B2IL15_il15iar_r1_gb2.append(value_finder(res, il15IAR_IL15B_r1_gb2))\n",
    "    \n",
    "    \n",
    "IL152B_H_gb2 = list(np.transpose([IL152B_il15har_r0_gb2, IL152B_il15har_r1_gb2]))\n",
    "IL152B_I_gb2 = list(np.transpose([IL152B_il15iar_r0_gb2, IL152B_il15iar_r1_gb2]))\n",
    "\n",
    "B2IL15_H_gb2 = list(np.transpose([B2IL15_il15har_r0_gb2, B2IL15_il15har_r1_gb2]))\n",
    "B2IL15_I_gb2 = list(np.transpose([B2IL15_il15iar_r0_gb2, B2IL15_il15iar_r1_gb2]))"
   ]
  },
  {
   "cell_type": "code",
   "execution_count": 16,
   "metadata": {},
   "outputs": [],
   "source": [
    "IL152G_il15har_r0_gb2 = []\n",
    "IL152G_il15har_r1_gb2 = []\n",
    "IL152G_il15iar_r0_gb2 = []\n",
    "IL152G_il15iar_r1_gb2 = []\n",
    "\n",
    "G2IL15_il15har_r0_gb2 = []\n",
    "G2IL15_il15har_r1_gb2 = []\n",
    "G2IL15_il15iar_r0_gb2 = []\n",
    "G2IL15_il15iar_r1_gb2 = []\n",
    "\n",
    "\n",
    "for res in IL152G:\n",
    "    IL152G_il15har_r0_gb2.append(value_finder(res, il15HAR_IL15G_r0_gb2))\n",
    "    IL152G_il15har_r1_gb2.append(value_finder(res, il15HAR_IL15G_r1_gb2))\n",
    "    IL152G_il15iar_r0_gb2.append(value_finder(res, il15IAR_IL15G_r0_gb2))\n",
    "    IL152G_il15iar_r1_gb2.append(value_finder(res, il15IAR_IL15G_r1_gb2))\n",
    "    \n",
    "for res in G2IL15:\n",
    "    G2IL15_il15har_r0_gb2.append(value_finder(res, il15HAR_IL15G_r0_gb2))\n",
    "    G2IL15_il15har_r1_gb2.append(value_finder(res, il15HAR_IL15G_r1_gb2))\n",
    "    G2IL15_il15iar_r0_gb2.append(value_finder(res, il15IAR_IL15G_r0_gb2))\n",
    "    G2IL15_il15iar_r1_gb2.append(value_finder(res, il15IAR_IL15G_r1_gb2))\n",
    "    \n",
    "    \n",
    "IL152G_H_gb2 = list(np.transpose([IL152G_il15har_r0_gb2, IL152G_il15har_r1_gb2]))\n",
    "IL152G_I_gb2 = list(np.transpose([IL152G_il15iar_r0_gb2, IL152G_il15iar_r1_gb2]))\n",
    "\n",
    "G2IL15_H_gb2 = list(np.transpose([G2IL15_il15har_r0_gb2, G2IL15_il15har_r1_gb2]))\n",
    "G2IL15_I_gb2 = list(np.transpose([G2IL15_il15iar_r0_gb2, G2IL15_il15iar_r1_gb2]))"
   ]
  },
  {
   "cell_type": "code",
   "execution_count": 17,
   "metadata": {},
   "outputs": [
    {
     "data": {
      "text/plain": [
       "[array([-1.139, -1.1  ]),\n",
       " array([-1.715, -1.48 ]),\n",
       " array([0.543, 0.451]),\n",
       " array([-1.195, -0.431]),\n",
       " array([-2.052, -5.669]),\n",
       " array([-2.165, -2.152]),\n",
       " array([-3.247, -2.931]),\n",
       " array([-3.136, -1.346]),\n",
       " array([-2.826, -1.556]),\n",
       " array([-7.251, -5.621]),\n",
       " array([-3.306, -2.581]),\n",
       " array([-2.686, -2.76 ])]"
      ]
     },
     "execution_count": 17,
     "metadata": {},
     "output_type": "execute_result"
    }
   ],
   "source": [
    "IL152G_H_gb2"
   ]
  },
  {
   "cell_type": "code",
   "execution_count": 18,
   "metadata": {},
   "outputs": [],
   "source": [
    "for i in range(len(B2G)):\n",
    "    B2G[i] = tlc2olc(res_shift(B2G[i], 5))\n",
    "    \n",
    "for i in range(len(G2B)):\n",
    "    G2B[i] = tlc2olc(res_shift(G2B[i], 31))\n",
    "    \n",
    "for i in range(len(IL22B)):\n",
    "    IL22B[i] = tlc2olc(res_shift(IL22B[i], 2))\n",
    "    \n",
    "for i in range(len(B2IL2)):\n",
    "    B2IL2[i] = tlc2olc(res_shift(B2IL2[i], 5))\n",
    "    \n",
    "for i in range(len(IL22G)):\n",
    "    IL22G[i] = tlc2olc(res_shift(IL22G[i], 2))\n",
    "    \n",
    "for i in range(len(G2IL2)):\n",
    "    G2IL2[i] = tlc2olc(res_shift(G2IL2[i], 31))\n",
    "    \n",
    "for i in range(len(B2IL15)):\n",
    "    B2IL15[i] = tlc2olc(res_shift(B2IL15[i], 5))\n",
    "    \n",
    "for i in range(len(IL152B)):\n",
    "    IL152B[i] = tlc2olc(res_shift(IL152B[i], -2))\n",
    "    \n",
    "for i in range(len(IL152G)):\n",
    "    IL152G[i] = tlc2olc(res_shift(IL152G[i], -2))\n",
    "    \n",
    "for i in range(len(G2IL15)):\n",
    "    G2IL15[i] = tlc2olc(res_shift(G2IL15[i], 31))"
   ]
  },
  {
   "cell_type": "code",
   "execution_count": 19,
   "metadata": {},
   "outputs": [],
   "source": [
    "def plot_comps(data1, data2, names, name):\n",
    "    pos_data1 = np.arange(0,2*len(data1),2)\n",
    "    pos_data2 = np.arange(0.7,2*len(data2)+0.7,2)\n",
    "    pos_labels = pos_data1 + 0.35\n",
    "    fig = plt.figure(figsize = (7,2.5))\n",
    "    pl1 = plt.boxplot(data1, positions = pos_data1, patch_artist = True, \n",
    "                      medianprops = dict(color = 'red'),\n",
    "                      flierprops = dict(color = 'red'),\n",
    "                      capprops = dict(color = 'red'),\n",
    "                      whiskerprops = dict(color = 'red')\n",
    "                     )\n",
    "    for box in pl1['boxes']:\n",
    "        box.set(color = 'red', facecolor = 'red', linewidth = 2)\n",
    "    pl2 = plt.boxplot(data2, positions = pos_data2, patch_artist = True,\n",
    "                      medianprops = dict(color = 'blue'),\n",
    "                      flierprops = dict(color = 'blue'),\n",
    "                      capprops = dict(color = 'blue'),\n",
    "                      whiskerprops = dict(color = 'blue')                      \n",
    "                     )\n",
    "    for box in pl2['boxes']:\n",
    "        box.set(color = 'blue', facecolor = 'blue', linewidth = 2)\n",
    "    plt.xticks(pos_labels,names, rotation = 80)\n",
    "    plt.grid(False)\n",
    "    plt.tight_layout()\n",
    "    savefig(name +'.pdf')\n",
    "    plt.show()"
   ]
  },
  {
   "cell_type": "code",
   "execution_count": 20,
   "metadata": {},
   "outputs": [
    {
     "data": {
      "image/png": "[encoded data removed]",
      "text/plain": [
       "<Figure size 504x180 with 1 Axes>"
      ]
     },
     "metadata": {
      "needs_background": "light"
     },
     "output_type": "display_data"
    }
   ],
   "source": [
    "plot_comps(B2G_H_gb2, B2G_I_gb2, B2G, 'beta2gamma_gb2')"
   ]
  },
  {
   "cell_type": "code",
   "execution_count": 21,
   "metadata": {},
   "outputs": [
    {
     "data": {
      "image/png": "[encoded data removed]",
      "text/plain": [
       "<Figure size 504x180 with 1 Axes>"
      ]
     },
     "metadata": {
      "needs_background": "light"
     },
     "output_type": "display_data"
    }
   ],
   "source": [
    "plot_comps(B2G_H15_gb2, B2G_I15_gb2, B2G, 'beta2gamma15_gb2')"
   ]
  },
  {
   "cell_type": "code",
   "execution_count": 22,
   "metadata": {},
   "outputs": [
    {
     "data": {
      "image/png": "[encoded data removed]",
      "text/plain": [
       "<Figure size 504x180 with 1 Axes>"
      ]
     },
     "metadata": {
      "needs_background": "light"
     },
     "output_type": "display_data"
    }
   ],
   "source": [
    "plot_comps(G2B_H_gb2, G2B_I_gb2, G2B, 'gamma2beta_gb2')"
   ]
  },
  {
   "cell_type": "code",
   "execution_count": 23,
   "metadata": {},
   "outputs": [
    {
     "data": {
      "image/png": "[encoded data removed]",
      "text/plain": [
       "<Figure size 504x180 with 1 Axes>"
      ]
     },
     "metadata": {
      "needs_background": "light"
     },
     "output_type": "display_data"
    }
   ],
   "source": [
    "plot_comps(G2B_H15_gb2, G2B_I15_gb2, G2B, 'gamma2beta15_gb2')"
   ]
  },
  {
   "cell_type": "code",
   "execution_count": 24,
   "metadata": {},
   "outputs": [
    {
     "data": {
      "image/png": "[encoded data removed]",
      "text/plain": [
       "<Figure size 504x180 with 1 Axes>"
      ]
     },
     "metadata": {
      "needs_background": "light"
     },
     "output_type": "display_data"
    }
   ],
   "source": [
    "plot_comps(IL22B_H_gb2, IL22B_I_gb2, IL22B, 'il22beta_gb2')"
   ]
  },
  {
   "cell_type": "code",
   "execution_count": 25,
   "metadata": {},
   "outputs": [
    {
     "data": {
      "image/png": "[encoded data removed]",
      "text/plain": [
       "<Figure size 504x180 with 1 Axes>"
      ]
     },
     "metadata": {
      "needs_background": "light"
     },
     "output_type": "display_data"
    }
   ],
   "source": [
    "plot_comps(B2IL2_H_gb2, B2IL2_I_gb2, B2IL2, 'beta2il2_gb2')"
   ]
  },
  {
   "cell_type": "code",
   "execution_count": 26,
   "metadata": {},
   "outputs": [
    {
     "data": {
      "image/png": "[encoded data removed]",
      "text/plain": [
       "<Figure size 504x180 with 1 Axes>"
      ]
     },
     "metadata": {
      "needs_background": "light"
     },
     "output_type": "display_data"
    }
   ],
   "source": [
    "plot_comps(G2IL2_H_gb2, G2IL2_I_gb2, G2IL2, 'gamma2il2_gb2')"
   ]
  },
  {
   "cell_type": "code",
   "execution_count": 27,
   "metadata": {},
   "outputs": [
    {
     "data": {
      "image/png": "[encoded data removed]",
      "text/plain": [
       "<Figure size 504x180 with 1 Axes>"
      ]
     },
     "metadata": {
      "needs_background": "light"
     },
     "output_type": "display_data"
    }
   ],
   "source": [
    "plot_comps(IL22G_H_gb2, IL22G_I_gb2, IL22G, 'il22gamma_gb2')"
   ]
  },
  {
   "cell_type": "code",
   "execution_count": 28,
   "metadata": {},
   "outputs": [
    {
     "data": {
      "image/png": "[encoded data removed]",
      "text/plain": [
       "<Figure size 504x180 with 1 Axes>"
      ]
     },
     "metadata": {
      "needs_background": "light"
     },
     "output_type": "display_data"
    }
   ],
   "source": [
    "plot_comps(IL152B_H_gb2, IL152B_I_gb2, IL152B, 'il152beta_gb2')"
   ]
  },
  {
   "cell_type": "code",
   "execution_count": 29,
   "metadata": {},
   "outputs": [
    {
     "data": {
      "image/png": "[encoded data removed]",
      "text/plain": [
       "<Figure size 504x180 with 1 Axes>"
      ]
     },
     "metadata": {
      "needs_background": "light"
     },
     "output_type": "display_data"
    }
   ],
   "source": [
    "plot_comps(B2IL15_H_gb2, B2IL15_I_gb2, B2IL15, 'beta2il15_gb2')"
   ]
  },
  {
   "cell_type": "code",
   "execution_count": 30,
   "metadata": {},
   "outputs": [
    {
     "data": {
      "image/png": "[encoded data removed]",
      "text/plain": [
       "<Figure size 504x180 with 1 Axes>"
      ]
     },
     "metadata": {
      "needs_background": "light"
     },
     "output_type": "display_data"
    }
   ],
   "source": [
    "plot_comps(IL152G_H_gb2, IL152G_I_gb2, IL152G, 'il152gamma_gb2')"
   ]
  },
  {
   "cell_type": "code",
   "execution_count": 31,
   "metadata": {},
   "outputs": [
    {
     "data": {
      "image/png": "[encoded data removed]",
      "text/plain": [
       "<Figure size 504x180 with 1 Axes>"
      ]
     },
     "metadata": {
      "needs_background": "light"
     },
     "output_type": "display_data"
    }
   ],
   "source": [
    "plot_comps(G2IL15_H_gb2, G2IL15_I_gb2, G2IL15, 'gamma2il15_gb2')"
   ]
  },
  {
   "cell_type": "code",
   "execution_count": null,
   "metadata": {},
   "outputs": [],
   "source": []
  }
 ],
 "metadata": {
  "kernelspec": {
   "display_name": "Python 3",
   "language": "python",
   "name": "python3"
  },
  "language_info": {
   "codemirror_mode": {
    "name": "ipython",
    "version": 3
   },
   "file_extension": ".py",
   "mimetype": "text/x-python",
   "name": "python",
   "nbconvert_exporter": "python",
   "pygments_lexer": "ipython3",
   "version": "3.6.10"
  }
 },
 "nbformat": 4,
 "nbformat_minor": 4
}
